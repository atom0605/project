{
 "cells": [
  {
   "cell_type": "markdown",
   "metadata": {},
   "source": [
    "# How to using this program?\n",
    "\n",
    "### 1. Row data input data folder\n",
    "\n",
    "### 2. run(path_file,  show=False,  save_fig=False, save_csv=False,file_input=None)\n",
    "    path_file : path of row data(setup just one time at first running)\n",
    "    \n",
    "    show : showing figure immediately. \n",
    "        so, False : do not showing figure. True : showing figure. default = False\n",
    "    \n",
    "    save_fig : saving figure\n",
    "        False : save. True : do not saving. default = False\n",
    "    \n",
    "    save_csv : saving csv.\n",
    "        False : save. True : do not saving. default = False\n",
    "        \n",
    "    file_input : choose data that you want.\n",
    "        copy and paste below name you want.\n",
    "        \n",
    "        'Lot, Wafer, Mask, TestSite, Name, Date, Operator, Row, Column,\n",
    "        error_flag, error_description, Analysis Wavelength, Rsq of Ref. spectrum,\n",
    "        Rsq of IV, I at 1V[A], I at -1V[A]"
   ]
  },
  {
   "cell_type": "code",
   "execution_count": null,
   "metadata": {},
   "outputs": [],
   "source": []
  }
 ],
 "metadata": {
  "kernelspec": {
   "display_name": "Python 3",
   "language": "python",
   "name": "python3"
  },
  "language_info": {
   "codemirror_mode": {
    "name": "ipython",
    "version": 3
   },
   "file_extension": ".py",
   "mimetype": "text/x-python",
   "name": "python",
   "nbconvert_exporter": "python",
   "pygments_lexer": "ipython3",
   "version": "3.8.5"
  }
 },
 "nbformat": 4,
 "nbformat_minor": 5
}
